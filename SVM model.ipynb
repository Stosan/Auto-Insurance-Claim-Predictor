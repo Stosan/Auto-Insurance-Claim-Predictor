{
 "cells": [
  {
   "cell_type": "code",
   "execution_count": 17,
   "metadata": {},
   "outputs": [],
   "source": [
    "import pandas as pd\n",
    "import numpy as np\n",
    "import seaborn as sns\n",
    "import matplotlib.pyplot as plt\n",
    "import warnings\n",
    "warnings.filterwarnings('ignore')\n",
    "\n",
    "from sklearn.model_selection import train_test_split\n",
    "from sklearn import metrics\n",
    "from sklearn import svm\n",
    "from sklearn.utils import shuffle\n",
    "from sklearn import metrics\n"
   ]
  },
  {
   "cell_type": "code",
   "execution_count": 18,
   "metadata": {},
   "outputs": [
    {
     "data": {
      "text/plain": [
       "(595212, 12)"
      ]
     },
     "execution_count": 18,
     "metadata": {},
     "output_type": "execute_result"
    }
   ],
   "source": [
    "# loading the dataset\n",
    "train1 = pd.read_csv(\"topfeatures.csv\")\n",
    "train1.shape"
   ]
  },
  {
   "cell_type": "code",
   "execution_count": 19,
   "metadata": {},
   "outputs": [
    {
     "name": "stdout",
     "output_type": "stream",
     "text": [
      "(21694, 12)\n",
      "(573518, 12)\n"
     ]
    },
    {
     "data": {
      "text/plain": [
       "(10000, 12)"
      ]
     },
     "execution_count": 19,
     "metadata": {},
     "output_type": "execute_result"
    }
   ],
   "source": [
    "# splitting dataset so that equal class variables are present\n",
    "train1class1 = train1.loc[train1['target'] == 1]\n",
    "train1class0 = train1.loc[train1['target'] == 0]\n",
    "\n",
    "print(train1class1.shape)\n",
    "print(train1class0.shape)\n",
    "\n",
    "train1class1head500 = train1class1.head(5000)\n",
    "train1class0head500 = train1class0.head(5000)\n",
    "\n",
    "frames = [train1class1head500, train1class0head500]\n",
    "train2 = pd.concat(frames)\n",
    "\n",
    "train2.shape"
   ]
  },
  {
   "cell_type": "code",
   "execution_count": 21,
   "metadata": {},
   "outputs": [
    {
     "data": {
      "text/html": [
       "<div>\n",
       "<style scoped>\n",
       "    .dataframe tbody tr th:only-of-type {\n",
       "        vertical-align: middle;\n",
       "    }\n",
       "\n",
       "    .dataframe tbody tr th {\n",
       "        vertical-align: top;\n",
       "    }\n",
       "\n",
       "    .dataframe thead th {\n",
       "        text-align: right;\n",
       "    }\n",
       "</style>\n",
       "<table border=\"1\" class=\"dataframe\">\n",
       "  <thead>\n",
       "    <tr style=\"text-align: right;\">\n",
       "      <th></th>\n",
       "      <th>id</th>\n",
       "      <th>target</th>\n",
       "      <th>ps_car_11</th>\n",
       "      <th>ps_reg_01</th>\n",
       "      <th>ps_car_12</th>\n",
       "      <th>ps_car_09_cat</th>\n",
       "      <th>ps_ind_13_bin</th>\n",
       "      <th>ps_ind_01</th>\n",
       "      <th>ps_calc_08</th>\n",
       "      <th>ps_calc_12</th>\n",
       "      <th>ps_car_15</th>\n",
       "      <th>ps_calc_09</th>\n",
       "    </tr>\n",
       "  </thead>\n",
       "  <tbody>\n",
       "    <tr>\n",
       "      <th>9</th>\n",
       "      <td>609480</td>\n",
       "      <td>1</td>\n",
       "      <td>3</td>\n",
       "      <td>0.9</td>\n",
       "      <td>0.447214</td>\n",
       "      <td>2</td>\n",
       "      <td>0</td>\n",
       "      <td>5</td>\n",
       "      <td>8</td>\n",
       "      <td>2</td>\n",
       "      <td>3.464102</td>\n",
       "      <td>4</td>\n",
       "    </tr>\n",
       "    <tr>\n",
       "      <th>42</th>\n",
       "      <td>1295557</td>\n",
       "      <td>1</td>\n",
       "      <td>2</td>\n",
       "      <td>0.7</td>\n",
       "      <td>0.447214</td>\n",
       "      <td>0</td>\n",
       "      <td>0</td>\n",
       "      <td>0</td>\n",
       "      <td>9</td>\n",
       "      <td>3</td>\n",
       "      <td>3.000000</td>\n",
       "      <td>4</td>\n",
       "    </tr>\n",
       "    <tr>\n",
       "      <th>74</th>\n",
       "      <td>165047</td>\n",
       "      <td>1</td>\n",
       "      <td>1</td>\n",
       "      <td>0.8</td>\n",
       "      <td>0.374166</td>\n",
       "      <td>2</td>\n",
       "      <td>0</td>\n",
       "      <td>0</td>\n",
       "      <td>9</td>\n",
       "      <td>2</td>\n",
       "      <td>3.464102</td>\n",
       "      <td>5</td>\n",
       "    </tr>\n",
       "    <tr>\n",
       "      <th>104</th>\n",
       "      <td>896238</td>\n",
       "      <td>1</td>\n",
       "      <td>3</td>\n",
       "      <td>0.4</td>\n",
       "      <td>0.400000</td>\n",
       "      <td>2</td>\n",
       "      <td>0</td>\n",
       "      <td>4</td>\n",
       "      <td>9</td>\n",
       "      <td>1</td>\n",
       "      <td>3.162278</td>\n",
       "      <td>3</td>\n",
       "    </tr>\n",
       "    <tr>\n",
       "      <th>108</th>\n",
       "      <td>712768</td>\n",
       "      <td>1</td>\n",
       "      <td>2</td>\n",
       "      <td>0.1</td>\n",
       "      <td>0.447214</td>\n",
       "      <td>0</td>\n",
       "      <td>0</td>\n",
       "      <td>7</td>\n",
       "      <td>8</td>\n",
       "      <td>1</td>\n",
       "      <td>3.741657</td>\n",
       "      <td>2</td>\n",
       "    </tr>\n",
       "  </tbody>\n",
       "</table>\n",
       "</div>"
      ],
      "text/plain": [
       "          id  target  ps_car_11  ps_reg_01  ps_car_12  ps_car_09_cat  \\\n",
       "9     609480       1          3        0.9   0.447214              2   \n",
       "42   1295557       1          2        0.7   0.447214              0   \n",
       "74    165047       1          1        0.8   0.374166              2   \n",
       "104   896238       1          3        0.4   0.400000              2   \n",
       "108   712768       1          2        0.1   0.447214              0   \n",
       "\n",
       "     ps_ind_13_bin  ps_ind_01  ps_calc_08  ps_calc_12  ps_car_15  ps_calc_09  \n",
       "9                0          5           8           2   3.464102           4  \n",
       "42               0          0           9           3   3.000000           4  \n",
       "74               0          0           9           2   3.464102           5  \n",
       "104              0          4           9           1   3.162278           3  \n",
       "108              0          7           8           1   3.741657           2  "
      ]
     },
     "execution_count": 21,
     "metadata": {},
     "output_type": "execute_result"
    }
   ],
   "source": [
    "train2.head()"
   ]
  },
  {
   "cell_type": "code",
   "execution_count": 22,
   "metadata": {},
   "outputs": [],
   "source": [
    "# seperating target variable\n",
    "X = train2[train2.columns[2:]]\n",
    "y = train2[train2.columns[1:2]]"
   ]
  },
  {
   "cell_type": "code",
   "execution_count": 23,
   "metadata": {},
   "outputs": [],
   "source": [
    "# Stratified sampling into Test and Train datasets\n",
    "X_train,X_test,y_train,y_test=train_test_split(X,y,test_size=0.25,random_state=123, stratify = y)"
   ]
  },
  {
   "cell_type": "code",
   "execution_count": 24,
   "metadata": {},
   "outputs": [
    {
     "data": {
      "text/plain": [
       "array([[639, 611],\n",
       "       [481, 769]])"
      ]
     },
     "execution_count": 24,
     "metadata": {},
     "output_type": "execute_result"
    }
   ],
   "source": [
    "## SVM with Linear kernel\n",
    "\n",
    "#Create a svm Classifier\n",
    "linclf = svm.SVC(kernel='linear') # Linear Kernel\n",
    "\n",
    "#Train the model using the training sets\n",
    "linclf.fit(X_train, y_train)\n",
    "\n",
    "#Predict the response for test dataset\n",
    "y_linpred = linclf.predict(X_test)\n",
    "\n",
    "# confusion matrix \n",
    "lincnf_matrix = metrics.confusion_matrix(y_test, y_linpred)\n",
    "lincnf_matrix"
   ]
  },
  {
   "cell_type": "code",
   "execution_count": 28,
   "metadata": {},
   "outputs": [
    {
     "data": {
      "text/plain": [
       "Text(0.5,257.44,'Predicted label')"
      ]
     },
     "execution_count": 28,
     "metadata": {},
     "output_type": "execute_result"
    },
    {
     "data": {
      "image/png": "[encoded data removed]",
      "text/plain": [
       "<Figure size 432x288 with 2 Axes>"
      ]
     },
     "metadata": {
      "needs_background": "light"
     },
     "output_type": "display_data"
    }
   ],
   "source": [
    "# confusion matrix plot\n",
    "\n",
    "class_names=[0,1] # name  of classes\n",
    "fig, ax = plt.subplots()\n",
    "tick_marks = np.arange(len(class_names))\n",
    "plt.xticks(tick_marks, class_names)\n",
    "plt.yticks(tick_marks, class_names)\n",
    "# create heatmap\n",
    "sns.heatmap(pd.DataFrame(lincnf_matrix), annot=True, cmap=\"plasma\" ,fmt='g')\n",
    "ax.xaxis.set_label_position(\"top\")\n",
    "plt.tight_layout()\n",
    "plt.title('Confusion matrix', y=1.1)\n",
    "plt.ylabel('Actual label')\n",
    "plt.xlabel('Predicted label')"
   ]
  },
  {
   "cell_type": "code",
   "execution_count": 44,
   "metadata": {},
   "outputs": [
    {
     "name": "stdout",
     "output_type": "stream",
     "text": [
      "SVM with linear kernel Accuracy: 0.5632\n",
      "SVM with linear kernel Precision: 0.5572463768115942\n",
      "SVM with linear kernel Recall: 0.6152\n",
      "AUC with linear kernel Recall: 0.5632\n"
     ]
    }
   ],
   "source": [
    "# SVM with linear kernel Performance\n",
    "print(\"SVM with linear kernel Accuracy:\",metrics.accuracy_score(y_test, y_linpred))\n",
    "print(\"SVM with linear kernel Precision:\",metrics.precision_score(y_test, y_linpred))\n",
    "print(\"SVM with linear kernel Recall:\",metrics.recall_score(y_test, y_linpred))\n",
    "print(\"AUC with linear kernel Recall:\",metrics.roc_auc_score(y_test, y_linpred))\n"
   ]
  },
  {
   "cell_type": "code",
   "execution_count": 55,
   "metadata": {},
   "outputs": [],
   "source": [
    "# Checking for Over fitting and under fitting\n",
    "linclf = svm.SVC(kernel='linear') # Linear Kernel\n",
    "\n",
    "#Train the model using the training sets\n",
    "linclf.fit(X_train, y_train)\n",
    "\n",
    "#Predict the response for test dataset\n",
    "y_linpred = linclf.predict(X_train)"
   ]
  },
  {
   "cell_type": "code",
   "execution_count": 56,
   "metadata": {},
   "outputs": [
    {
     "name": "stdout",
     "output_type": "stream",
     "text": [
      "SVM with linear kernel Accuracy: 0.5621333333333334\n",
      "SVM with linear kernel Precision: 0.5576732673267327\n",
      "SVM with linear kernel Recall: 0.6008\n",
      "AUC with linear kernel Recall: 0.5621333333333334\n"
     ]
    }
   ],
   "source": [
    "print(\"SVM with linear kernel Accuracy:\",metrics.accuracy_score(y_train, y_linpred))\n",
    "print(\"SVM with linear kernel Precision:\",metrics.precision_score(y_train, y_linpred))\n",
    "print(\"SVM with linear kernel Recall:\",metrics.recall_score(y_train, y_linpred))\n",
    "print(\"AUC with linear kernel Recall:\",metrics.roc_auc_score(y_train, y_linpred))"
   ]
  },
  {
   "cell_type": "markdown",
   "metadata": {},
   "source": [
    "### SVM with Polynomial Kernel"
   ]
  },
  {
   "cell_type": "code",
   "execution_count": 30,
   "metadata": {},
   "outputs": [
    {
     "data": {
      "text/plain": [
       "array([[643, 607],\n",
       "       [498, 752]])"
      ]
     },
     "execution_count": 30,
     "metadata": {},
     "output_type": "execute_result"
    }
   ],
   "source": [
    "#Create a svm Classifier with polynomial kernel\n",
    "polyclf = svm.SVC(kernel='poly') \n",
    "\n",
    "#Train the model using the training sets\n",
    "polyclf.fit(X_train, y_train)\n",
    "\n",
    "#Predict the response for test dataset\n",
    "y_polypred = polyclf.predict(X_test)\n",
    "\n",
    "# confusion matrix\n",
    "polycnf_matrix = metrics.confusion_matrix(y_test, y_polypred)\n",
    "polycnf_matrix"
   ]
  },
  {
   "cell_type": "code",
   "execution_count": 31,
   "metadata": {},
   "outputs": [
    {
     "data": {
      "text/plain": [
       "Text(0.5,257.44,'Predicted label')"
      ]
     },
     "execution_count": 31,
     "metadata": {},
     "output_type": "execute_result"
    },
    {
     "data": {
      "image/png": "[encoded data removed]",
      "text/plain": [
       "<Figure size 432x288 with 2 Axes>"
      ]
     },
     "metadata": {
      "needs_background": "light"
     },
     "output_type": "display_data"
    }
   ],
   "source": [
    "# confusion matrix plot\n",
    "class_names=[0,1] # name  of classes\n",
    "fig, ax = plt.subplots()\n",
    "tick_marks = np.arange(len(class_names))\n",
    "plt.xticks(tick_marks, class_names)\n",
    "plt.yticks(tick_marks, class_names)\n",
    "# create heatmap\n",
    "sns.heatmap(pd.DataFrame(polycnf_matrix), annot=True, cmap=\"viridis\" ,fmt='g')\n",
    "ax.xaxis.set_label_position(\"top\")\n",
    "plt.tight_layout()\n",
    "plt.title('Confusion matrix', y=1.1)\n",
    "plt.ylabel('Actual label')\n",
    "plt.xlabel('Predicted label')"
   ]
  },
  {
   "cell_type": "code",
   "execution_count": 46,
   "metadata": {},
   "outputs": [
    {
     "name": "stdout",
     "output_type": "stream",
     "text": [
      "SVM with polynomial kernel Accuracy: 0.558\n",
      "SVM with polynomial kernel Precision: 0.5533480500367918\n",
      "SVM with polynomial kernel Recall: 0.6016\n",
      "AUC with polynomial kernel Recall: 0.5579999999999999\n"
     ]
    }
   ],
   "source": [
    "# SVM with polynomial kernel performance\n",
    "print(\"SVM with polynomial kernel Accuracy:\",metrics.accuracy_score(y_test, y_polypred))\n",
    "print(\"SVM with polynomial kernel Precision:\",metrics.precision_score(y_test, y_polypred))\n",
    "print(\"SVM with polynomial kernel Recall:\",metrics.recall_score(y_test, y_polypred))\n",
    "print(\"AUC with polynomial kernel Recall:\",metrics.roc_auc_score(y_test, y_polypred))\n"
   ]
  },
  {
   "cell_type": "code",
   "execution_count": 53,
   "metadata": {},
   "outputs": [],
   "source": [
    "# Checking for Over fitting and under fitting\n",
    "\n",
    "polyclf = svm.SVC(kernel='poly') \n",
    "\n",
    "#Train the model using the training sets\n",
    "polyclf.fit(X_train, y_train)\n",
    "\n",
    "#Predict the response for test dataset\n",
    "y_polypred = polyclf.predict(X_train)"
   ]
  },
  {
   "cell_type": "code",
   "execution_count": 54,
   "metadata": {},
   "outputs": [
    {
     "name": "stdout",
     "output_type": "stream",
     "text": [
      "SVM with polynomial kernel Accuracy: 0.5778666666666666\n",
      "SVM with polynomial kernel Precision: 0.5741869918699187\n",
      "SVM with polynomial kernel Recall: 0.6026666666666667\n",
      "AUC with polynomial kernel Recall: 0.5778666666666666\n"
     ]
    }
   ],
   "source": [
    "print(\"SVM with polynomial kernel Accuracy:\",metrics.accuracy_score(y_train, y_polypred))\n",
    "print(\"SVM with polynomial kernel Precision:\",metrics.precision_score(y_train, y_polypred))\n",
    "print(\"SVM with polynomial kernel Recall:\",metrics.recall_score(y_train, y_polypred))\n",
    "print(\"AUC with polynomial kernel Recall:\",metrics.roc_auc_score(y_train, y_polypred))"
   ]
  },
  {
   "cell_type": "markdown",
   "metadata": {},
   "source": [
    "### SVM with RBF kernel"
   ]
  },
  {
   "cell_type": "code",
   "execution_count": 52,
   "metadata": {},
   "outputs": [
    {
     "data": {
      "text/plain": [
       "array([[567, 683],\n",
       "       [457, 793]])"
      ]
     },
     "execution_count": 52,
     "metadata": {},
     "output_type": "execute_result"
    }
   ],
   "source": [
    "#Create a svm Classifier with RBF Kernel\n",
    "rbfclf = svm.SVC(kernel='rbf') \n",
    "\n",
    "#Train the model using the training sets\n",
    "rbfclf.fit(X_train, y_train)\n",
    "\n",
    "#Predict the response for test dataset\n",
    "y_rbfpred = rbfclf.predict(X_test)\n",
    "\n",
    "# confusion matrix\n",
    "rbfcnf_matrix = metrics.confusion_matrix(y_test, y_rbfpred)\n",
    "rbfcnf_matrix"
   ]
  },
  {
   "cell_type": "code",
   "execution_count": 34,
   "metadata": {},
   "outputs": [
    {
     "data": {
      "text/plain": [
       "Text(0.5,257.44,'Predicted label')"
      ]
     },
     "execution_count": 34,
     "metadata": {},
     "output_type": "execute_result"
    },
    {
     "data": {
      "image/png": "[encoded data removed]",
      "text/plain": [
       "<Figure size 432x288 with 2 Axes>"
      ]
     },
     "metadata": {
      "needs_background": "light"
     },
     "output_type": "display_data"
    }
   ],
   "source": [
    "# confusion matrix plot\n",
    "class_names=[0,1] # name  of classes\n",
    "fig, ax = plt.subplots()\n",
    "tick_marks = np.arange(len(class_names))\n",
    "plt.xticks(tick_marks, class_names)\n",
    "plt.yticks(tick_marks, class_names)\n",
    "# create heatmap\n",
    "sns.heatmap(pd.DataFrame(rbfcnf_matrix), annot=True, cmap=\"YlGnBu\" ,fmt='g')\n",
    "ax.xaxis.set_label_position(\"top\")\n",
    "plt.tight_layout()\n",
    "plt.title('Confusion matrix', y=1.1)\n",
    "plt.ylabel('Actual label')\n",
    "plt.xlabel('Predicted label')"
   ]
  },
  {
   "cell_type": "code",
   "execution_count": 43,
   "metadata": {},
   "outputs": [
    {
     "name": "stdout",
     "output_type": "stream",
     "text": [
      "SVM with RBF kernel Accuracy: 0.5456\n",
      "SVM with RBF kernel Precision: 0.5395833333333333\n",
      "SVM with RBF kernel Recall: 0.6216\n",
      "AUC with RBF kernel Recall: 0.5456\n"
     ]
    }
   ],
   "source": [
    "# SVM with RBF kernel Performance\n",
    "print(\"SVM with RBF kernel Accuracy:\",metrics.accuracy_score(y_test, y_rbfpred))\n",
    "print(\"SVM with RBF kernel Precision:\",metrics.precision_score(y_test, y_rbfpred))\n",
    "print(\"SVM with RBF kernel Recall:\",metrics.recall_score(y_test, y_rbfpred))\n",
    "print(\"AUC with RBF kernel Recall:\",metrics.roc_auc_score(y_test, y_rbfpred))\n",
    "\n"
   ]
  },
  {
   "cell_type": "code",
   "execution_count": 49,
   "metadata": {},
   "outputs": [],
   "source": [
    "# Checking for Over fitting and under fitting\n",
    "\n",
    "rbfclf = svm.SVC(kernel='rbf') \n",
    "\n",
    "#Train the model using the training sets\n",
    "rbfclf.fit(X_train, y_train)\n",
    "\n",
    "#Predict the response for test dataset\n",
    "y_rbfpred = rbfclf.predict(X_train)"
   ]
  },
  {
   "cell_type": "code",
   "execution_count": 50,
   "metadata": {},
   "outputs": [
    {
     "name": "stdout",
     "output_type": "stream",
     "text": [
      "SVM with RBF kernel Accuracy: 0.5993333333333334\n",
      "SVM with RBF kernel Precision: 0.5907872288569339\n",
      "SVM with RBF kernel Recall: 0.6464\n",
      "AUC with RBF kernel Recall: 0.5993333333333333\n"
     ]
    }
   ],
   "source": [
    "print(\"SVM with RBF kernel Accuracy:\",metrics.accuracy_score(y_train, y_rbfpred))\n",
    "print(\"SVM with RBF kernel Precision:\",metrics.precision_score(y_train, y_rbfpred))\n",
    "print(\"SVM with RBF kernel Recall:\",metrics.recall_score(y_train, y_rbfpred))\n",
    "print(\"AUC with RBF kernel Recall:\",metrics.roc_auc_score(y_train, y_rbfpred))\n"
   ]
  },
  {
   "cell_type": "code",
   "execution_count": null,
   "metadata": {},
   "outputs": [],
   "source": []
  }
 ],
 "metadata": {
  "kernelspec": {
   "display_name": "Python 3",
   "language": "python",
   "name": "python3"
  },
  "language_info": {
   "codemirror_mode": {
    "name": "ipython",
    "version": 3
   },
   "file_extension": ".py",
   "mimetype": "text/x-python",
   "name": "python",
   "nbconvert_exporter": "python",
   "pygments_lexer": "ipython3",
   "version": "3.7.0"
  }
 },
 "nbformat": 4,
 "nbformat_minor": 2
}
